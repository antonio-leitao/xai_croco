{
 "cells": [
  {
   "cell_type": "code",
   "execution_count": null,
   "metadata": {
    "colab": {
     "base_uri": "https://localhost:8080/"
    },
    "executionInfo": {
     "elapsed": 42273,
     "status": "ok",
     "timestamp": 1709043310157,
     "user": {
      "displayName": "claudio giovannoni",
      "userId": "16814477495340547867"
     },
     "user_tz": -60
    },
    "id": "8E7CSQTKTmnl",
    "outputId": "36a967c8-5b2e-4c97-9a69-2d9503b5275e"
   },
   "outputs": [
    {
     "name": "stdout",
     "output_type": "stream",
     "text": [
      "Cloning into 'xai_croco'...\n",
      "remote: Enumerating objects: 3143, done.\u001b[K\n",
      "remote: Counting objects: 100% (37/37), done.\u001b[K\n",
      "remote: Compressing objects: 100% (33/33), done.\u001b[K\n",
      "remote: Total 3143 (delta 2), reused 37 (delta 2), pack-reused 3106\u001b[K\n",
      "Receiving objects: 100% (3143/3143), 668.97 MiB | 20.55 MiB/s, done.\n",
      "Resolving deltas: 100% (57/57), done.\n",
      "Updating files: 100% (3086/3086), done.\n"
     ]
    }
   ],
   "source": [
    "!git clone https://github.com/cgiova/xai_croco.git"
   ]
  },
  {
   "cell_type": "code",
   "execution_count": null,
   "metadata": {
    "id": "jeGH8eZuTrNS"
   },
   "outputs": [],
   "source": [
    "!cd /content/xai_croco"
   ]
  },
  {
   "cell_type": "code",
   "execution_count": null,
   "metadata": {
    "id": "ASQE85C3VgcP"
   },
   "outputs": [],
   "source": [
    "import sys\n",
    "sys.path.append('/content/xai_croco')\n",
    "sys.path.append('/content/xai_croco/XAI_course_2024-main')"
   ]
  },
  {
   "cell_type": "code",
   "execution_count": null,
   "metadata": {
    "ExecuteTime": {
     "end_time": "2024-02-26T16:04:05.106089Z",
     "start_time": "2024-02-26T16:04:03.425335Z"
    },
    "id": "bqrg6iQ2TjWq"
   },
   "outputs": [],
   "source": [
    "#custom neural networkx models\n",
    "import neural_networks as ann\n",
    "#other imports\n",
    "import matplotlib.pyplot as plt\n",
    "import numpy as np\n",
    "import torch.nn as nn\n",
    "import torch\n",
    "from torch.utils.data import DataLoader, Dataset\n",
    "from torchvision.datasets import MNIST\n",
    "from torchvision.transforms import Compose, ToTensor, Normalize"
   ]
  },
  {
   "cell_type": "markdown",
   "metadata": {
    "id": "t1NRMxLuTjWt"
   },
   "source": [
    "# Load model and autoencoder\n",
    "\n",
    "That were trained on different script"
   ]
  },
  {
   "cell_type": "code",
   "execution_count": null,
   "metadata": {
    "id": "hjFJB0AieqrX"
   },
   "outputs": [],
   "source": [
    "class Autoencoder(nn.Module):\n",
    "    def __init__(self, latent_dim=4, hidden_dim=1024):\n",
    "        super(Autoencoder, self).__init__()\n",
    "        self.latent_dim = latent_dim\n",
    "        self.hidden_dim = hidden_dim\n",
    "\n",
    "        # encoder layers\n",
    "        self.conv1 = nn.Conv2d(1, 16, 3, padding=1)\n",
    "        self.conv2 = nn.Conv2d(16, 4, 3, padding=1)\n",
    "        self.pool = nn.MaxPool2d(2, 2)\n",
    "\n",
    "        # decoder layers\n",
    "        self.t_conv1 = nn.ConvTranspose2d(4, 16, 2, stride=2)\n",
    "        self.t_conv2 = nn.ConvTranspose2d(16, 1, 2, stride=2)"
   ]
  },
  {
   "cell_type": "code",
   "execution_count": null,
   "metadata": {
    "ExecuteTime": {
     "end_time": "2024-02-26T16:04:10.037324Z",
     "start_time": "2024-02-26T16:04:10.005493Z"
    },
    "colab": {
     "base_uri": "https://localhost:8080/"
    },
    "executionInfo": {
     "elapsed": 437,
     "status": "ok",
     "timestamp": 1709047650369,
     "user": {
      "displayName": "claudio giovannoni",
      "userId": "16814477495340547867"
     },
     "user_tz": -60
    },
    "id": "5gfcsYTrTjWu",
    "outputId": "a7dc1f6b-7f22-43d0-811e-6ebc4dd55a5f"
   },
   "outputs": [
    {
     "data": {
      "text/plain": [
       "Sequential(\n",
       "  (0): ConvNet(\n",
       "    (conv_layers): Sequential(\n",
       "      (0): Conv2d(1, 10, kernel_size=(5, 5), stride=(1, 1))\n",
       "      (1): MaxPool2d(kernel_size=2, stride=2, padding=0, dilation=1, ceil_mode=False)\n",
       "      (2): ReLU()\n",
       "      (3): Conv2d(10, 20, kernel_size=(5, 5), stride=(1, 1))\n",
       "      (4): Dropout(p=0.5, inplace=False)\n",
       "      (5): MaxPool2d(kernel_size=2, stride=2, padding=0, dilation=1, ceil_mode=False)\n",
       "      (6): ReLU()\n",
       "    )\n",
       "    (fc_layers): Sequential(\n",
       "      (0): Linear(in_features=320, out_features=50, bias=True)\n",
       "      (1): ReLU()\n",
       "      (2): Dropout(p=0.5, inplace=False)\n",
       "      (3): Linear(in_features=50, out_features=10, bias=True)\n",
       "    )\n",
       "  )\n",
       "  (1): Extra_layer(\n",
       "    (bin): Linear(in_features=10, out_features=2, bias=True)\n",
       "  )\n",
       ")"
      ]
     },
     "execution_count": 107,
     "metadata": {},
     "output_type": "execute_result"
    }
   ],
   "source": [
    "#main model\n",
    "conv_net = ann.ConvNet()\n",
    "extra_layer = ann.Extra_layer()\n",
    "model = nn.Sequential(conv_net, extra_layer)\n",
    "model.load_state_dict(torch.load('/content/xai_croco/model_checkpoint.pth'))\n",
    "model.eval()\n",
    "\n",
    "#autoencoder\n",
    "autoencoder = Autoencoder(latent_dim=4, hidden_dim=1024)\n",
    "autoencoder.load_state_dict(torch.load('/content/xai_croco/autoencoder_checkpoint.pth'))\n",
    "model.eval()"
   ]
  },
  {
   "cell_type": "markdown",
   "metadata": {
    "id": "PdtrRUTKTjWv"
   },
   "source": [
    "# Load data"
   ]
  },
  {
   "cell_type": "code",
   "execution_count": null,
   "metadata": {
    "ExecuteTime": {
     "end_time": "2024-02-26T16:04:16.946313Z",
     "start_time": "2024-02-26T16:04:13.672816Z"
    },
    "id": "zqkIF2S5TjWv"
   },
   "outputs": [],
   "source": [
    "# Specify the target digit for binary classification\n",
    "batch_size_train = 128\n",
    "batch_size_test = 1000\n",
    "target_digit = 9\n",
    "transform = Compose([ToTensor(), Normalize((0.1307,), (0.3081,))])\n",
    "# Create binary classification train and test loaders\n",
    "binary_train_loader = DataLoader(ann.BinaryMNIST('mnist_data/', train=True, transform=transform, target_digit=target_digit),\n",
    "                          batch_size=batch_size_train, shuffle=True)\n",
    "binary_test_loader = DataLoader(ann.BinaryMNIST('mnist_data/', train=False, transform=transform, target_digit=target_digit),\n",
    "                         batch_size=batch_size_test, shuffle=True)"
   ]
  },
  {
   "cell_type": "code",
   "execution_count": null,
   "metadata": {
    "ExecuteTime": {
     "end_time": "2024-02-26T16:23:09.354673Z",
     "start_time": "2024-02-26T16:23:09.202910Z"
    },
    "colab": {
     "base_uri": "https://localhost:8080/"
    },
    "executionInfo": {
     "elapsed": 295,
     "status": "ok",
     "timestamp": 1709047654994,
     "user": {
      "displayName": "claudio giovannoni",
      "userId": "16814477495340547867"
     },
     "user_tz": -60
    },
    "id": "v6A9M7jCTjWw",
    "outputId": "b3b00d56-dd9d-4617-ee48-07bb255c4fb0"
   },
   "outputs": [
    {
     "data": {
      "text/plain": [
       "(1, 28, 28)"
      ]
     },
     "execution_count": 109,
     "metadata": {},
     "output_type": "execute_result"
    }
   ],
   "source": [
    "data_iter = enumerate(binary_test_loader)\n",
    "batch_idx, (data, targets) = next(data_iter)\n",
    "ones = (targets==1).nonzero()\n",
    "x = data[ones[0]]\n",
    "\n",
    "factual = data[ones[17]].clone().detach()\n",
    "factual.squeeze(0).numpy().shape"
   ]
  },
  {
   "cell_type": "code",
   "execution_count": null,
   "metadata": {
    "colab": {
     "base_uri": "https://localhost:8080/"
    },
    "executionInfo": {
     "elapsed": 3,
     "status": "ok",
     "timestamp": 1709047656418,
     "user": {
      "displayName": "claudio giovannoni",
      "userId": "16814477495340547867"
     },
     "user_tz": -60
    },
    "id": "NjazuvrNEfsG",
    "outputId": "2158fe2e-f0bb-4424-8ea7-10a57fd02930"
   },
   "outputs": [
    {
     "data": {
      "text/plain": [
       "torch.Size([911, 1, 28, 28])"
      ]
     },
     "execution_count": 110,
     "metadata": {},
     "output_type": "execute_result"
    }
   ],
   "source": [
    "zeroes = data[targets==0]\n",
    "zeroes.shape"
   ]
  },
  {
   "cell_type": "markdown",
   "metadata": {
    "id": "gV0Z6TzX8A-D"
   },
   "source": [
    "## LIME"
   ]
  },
  {
   "cell_type": "code",
   "execution_count": null,
   "metadata": {
    "colab": {
     "base_uri": "https://localhost:8080/"
    },
    "executionInfo": {
     "elapsed": 11286,
     "status": "ok",
     "timestamp": 1709043672748,
     "user": {
      "displayName": "claudio giovannoni",
      "userId": "16814477495340547867"
     },
     "user_tz": -60
    },
    "id": "agTFWdVm8Akx",
    "outputId": "1db9f0f3-c579-4284-9048-f609af27e35f"
   },
   "outputs": [
    {
     "name": "stdout",
     "output_type": "stream",
     "text": [
      "Collecting lime\n",
      "  Downloading lime-0.2.0.1.tar.gz (275 kB)\n",
      "\u001b[?25l     \u001b[90m━━━━━━━━━━━━━━━━━━━━━━━━━━━━━━━━━━━━━━━━\u001b[0m \u001b[32m0.0/275.7 kB\u001b[0m \u001b[31m?\u001b[0m eta \u001b[36m-:--:--\u001b[0m\r\u001b[2K     \u001b[91m━━━━━━━━━━━\u001b[0m\u001b[91m╸\u001b[0m\u001b[90m━━━━━━━━━━━━━━━━━━━━━━━━━━━━\u001b[0m \u001b[32m81.9/275.7 kB\u001b[0m \u001b[31m2.7 MB/s\u001b[0m eta \u001b[36m0:00:01\u001b[0m\r\u001b[2K     \u001b[90m━━━━━━━━━━━━━━━━━━━━━━━━━━━━━━━━━━━━━━━━\u001b[0m \u001b[32m275.7/275.7 kB\u001b[0m \u001b[31m4.8 MB/s\u001b[0m eta \u001b[36m0:00:00\u001b[0m\n",
      "\u001b[?25h  Preparing metadata (setup.py) ... \u001b[?25l\u001b[?25hdone\n",
      "Requirement already satisfied: matplotlib in /usr/local/lib/python3.10/dist-packages (from lime) (3.7.1)\n",
      "Requirement already satisfied: numpy in /usr/local/lib/python3.10/dist-packages (from lime) (1.25.2)\n",
      "Requirement already satisfied: scipy in /usr/local/lib/python3.10/dist-packages (from lime) (1.11.4)\n",
      "Requirement already satisfied: tqdm in /usr/local/lib/python3.10/dist-packages (from lime) (4.66.2)\n",
      "Requirement already satisfied: scikit-learn>=0.18 in /usr/local/lib/python3.10/dist-packages (from lime) (1.2.2)\n",
      "Requirement already satisfied: scikit-image>=0.12 in /usr/local/lib/python3.10/dist-packages (from lime) (0.19.3)\n",
      "Requirement already satisfied: networkx>=2.2 in /usr/local/lib/python3.10/dist-packages (from scikit-image>=0.12->lime) (3.2.1)\n",
      "Requirement already satisfied: pillow!=7.1.0,!=7.1.1,!=8.3.0,>=6.1.0 in /usr/local/lib/python3.10/dist-packages (from scikit-image>=0.12->lime) (9.4.0)\n",
      "Requirement already satisfied: imageio>=2.4.1 in /usr/local/lib/python3.10/dist-packages (from scikit-image>=0.12->lime) (2.31.6)\n",
      "Requirement already satisfied: tifffile>=2019.7.26 in /usr/local/lib/python3.10/dist-packages (from scikit-image>=0.12->lime) (2024.2.12)\n",
      "Requirement already satisfied: PyWavelets>=1.1.1 in /usr/local/lib/python3.10/dist-packages (from scikit-image>=0.12->lime) (1.5.0)\n",
      "Requirement already satisfied: packaging>=20.0 in /usr/local/lib/python3.10/dist-packages (from scikit-image>=0.12->lime) (23.2)\n",
      "Requirement already satisfied: joblib>=1.1.1 in /usr/local/lib/python3.10/dist-packages (from scikit-learn>=0.18->lime) (1.3.2)\n",
      "Requirement already satisfied: threadpoolctl>=2.0.0 in /usr/local/lib/python3.10/dist-packages (from scikit-learn>=0.18->lime) (3.3.0)\n",
      "Requirement already satisfied: contourpy>=1.0.1 in /usr/local/lib/python3.10/dist-packages (from matplotlib->lime) (1.2.0)\n",
      "Requirement already satisfied: cycler>=0.10 in /usr/local/lib/python3.10/dist-packages (from matplotlib->lime) (0.12.1)\n",
      "Requirement already satisfied: fonttools>=4.22.0 in /usr/local/lib/python3.10/dist-packages (from matplotlib->lime) (4.49.0)\n",
      "Requirement already satisfied: kiwisolver>=1.0.1 in /usr/local/lib/python3.10/dist-packages (from matplotlib->lime) (1.4.5)\n",
      "Requirement already satisfied: pyparsing>=2.3.1 in /usr/local/lib/python3.10/dist-packages (from matplotlib->lime) (3.1.1)\n",
      "Requirement already satisfied: python-dateutil>=2.7 in /usr/local/lib/python3.10/dist-packages (from matplotlib->lime) (2.8.2)\n",
      "Requirement already satisfied: six>=1.5 in /usr/local/lib/python3.10/dist-packages (from python-dateutil>=2.7->matplotlib->lime) (1.16.0)\n",
      "Building wheels for collected packages: lime\n",
      "  Building wheel for lime (setup.py) ... \u001b[?25l\u001b[?25hdone\n",
      "  Created wheel for lime: filename=lime-0.2.0.1-py3-none-any.whl size=283835 sha256=995a02f21410932f3adccec868347b04950b1a69d75eb80e58cb6c16166cea7a\n",
      "  Stored in directory: /root/.cache/pip/wheels/fd/a2/af/9ac0a1a85a27f314a06b39e1f492bee1547d52549a4606ed89\n",
      "Successfully built lime\n",
      "Installing collected packages: lime\n",
      "Successfully installed lime-0.2.0.1\n"
     ]
    }
   ],
   "source": [
    "!pip install lime"
   ]
  },
  {
   "cell_type": "code",
   "execution_count": null,
   "metadata": {
    "colab": {
     "base_uri": "https://localhost:8080/"
    },
    "executionInfo": {
     "elapsed": 262,
     "status": "ok",
     "timestamp": 1709044402039,
     "user": {
      "displayName": "claudio giovannoni",
      "userId": "16814477495340547867"
     },
     "user_tz": -60
    },
    "id": "-n7D-baE-cal",
    "outputId": "f18e2217-f804-466e-dced-f18872dbeb33"
   },
   "outputs": [
    {
     "data": {
      "text/plain": [
       "(28, 28)"
      ]
     },
     "execution_count": 40,
     "metadata": {},
     "output_type": "execute_result"
    }
   ],
   "source": [
    "factual.squeeze(0).squeeze(0).numpy().shape"
   ]
  },
  {
   "cell_type": "code",
   "execution_count": null,
   "metadata": {
    "id": "FLgF7mPE_pNK"
   },
   "outputs": [],
   "source": [
    "ds = data.numpy()"
   ]
  },
  {
   "cell_type": "code",
   "execution_count": 117,
   "metadata": {
    "colab": {
     "base_uri": "https://localhost:8080/",
     "height": 432,
     "referenced_widgets": [
      "7f2f366372af4961876ea83037929a2f",
      "a0b13faffe5e4de0a1026aec6324133a",
      "8cf21a8b20974427b3157895a6e221f9",
      "64e85195d4e4403dabad2335e5ab7451",
      "6b72a1c0f349469896dfa3a651e6128e",
      "de442821b3a8486fb2c35697480b8485",
      "8566496ff86e4b5fb38c2abb68fcf8ea",
      "79dc28ef3df6487ca800b31a3ebb083c",
      "8d2e741a7fc540b9bb084fb49d7eb49c",
      "f592238d720442f49326d0f5bc643a09",
      "d34043415b1a4ab3ae151ab96935f09e"
     ]
    },
    "executionInfo": {
     "elapsed": 1655,
     "status": "ok",
     "timestamp": 1709047889885,
     "user": {
      "displayName": "claudio giovannoni",
      "userId": "16814477495340547867"
     },
     "user_tz": -60
    },
    "id": "tXUZuMsF8DCy",
    "outputId": "28d414de-053f-4c5a-c2a8-3072bbf01091"
   },
   "outputs": [
    {
     "data": {
      "application/vnd.jupyter.widget-view+json": {
       "model_id": "7f2f366372af4961876ea83037929a2f",
       "version_major": 2,
       "version_minor": 0
      },
      "text/plain": [
       "  0%|          | 0/1000 [00:00<?, ?it/s]"
      ]
     },
     "metadata": {},
     "output_type": "display_data"
    },
    {
     "data": {
      "image/png": "[encoded data removed]",
      "text/plain": [
       "<Figure size 1500x500 with 3 Axes>"
      ]
     },
     "metadata": {},
     "output_type": "display_data"
    }
   ],
   "source": [
    "from xailib.explainers.lime_explainer import LimeXAIImageExplainer\n",
    "from skimage.color import label2rgb, gray2rgb, rgb2gray\n",
    "\n",
    "# index of the image to explain\n",
    "instance = data[ones[17]].clone().detach().numpy().squeeze(0).squeeze(0)\n",
    "\n",
    "# 1) Create the Explainer\n",
    "lm = LimeXAIImageExplainer(model)\n",
    "\n",
    "# 2a) Fit the Explainer\n",
    "lm.fit()\n",
    "\n",
    "# 2b) Create custom classifier function that takes as input an array of images (the LIME neighbourhood) and return an array of (num_images,num_classes)\n",
    "# If None will use black_box.predict function\n",
    "def classifier_fn(images):\n",
    "    images = torch.tensor(rgb2gray(images/255).reshape(-1,1,28,28)).float()\n",
    "    #print(images.shape)\n",
    "    #print(np.argmax(model(images).detach().numpy(),axis=1).reshape(-1,1))\n",
    "    return np.argmax(model(images).detach().numpy(),axis=1).reshape(-1,1)\n",
    "\n",
    "# 3) Explain an Instance\n",
    "explanation = lm.explain(gray2rgb(instance), classifier_fn, num_samples=1000)\n",
    "\n",
    "# 4) Plot the results\n",
    "lime_score = explanation.heatmap\n",
    "lm.plot_lime_values(instance, explanation)"
   ]
  },
  {
   "cell_type": "markdown",
   "metadata": {
    "id": "hhTFfAUt8AVw"
   },
   "source": [
    "## IntGrad"
   ]
  },
  {
   "cell_type": "code",
   "execution_count": null,
   "metadata": {
    "ExecuteTime": {
     "end_time": "2024-02-26T17:09:20.365567Z",
     "start_time": "2024-02-26T17:09:20.221356Z"
    },
    "colab": {
     "base_uri": "https://localhost:8080/",
     "height": 410
    },
    "executionInfo": {
     "elapsed": 920,
     "status": "ok",
     "timestamp": 1709047677713,
     "user": {
      "displayName": "claudio giovannoni",
      "userId": "16814477495340547867"
     },
     "user_tz": -60
    },
    "id": "BGOQC_BDTjWw",
    "outputId": "e9502854-6033-4b14-fd3b-03ae7e3de503"
   },
   "outputs": [
    {
     "data": {
      "image/png": "[encoded data removed]",
      "text/plain": [
       "<Figure size 640x480 with 2 Axes>"
      ]
     },
     "metadata": {},
     "output_type": "display_data"
    }
   ],
   "source": [
    "from xailib.explainers.intgrad_explainer import IntgradImageExplainer\n",
    "\n",
    "# 1) Create the Explainer\n",
    "ig = IntgradImageExplainer(model)\n",
    "\n",
    "# 2) Fit the Explainer\n",
    "ig.fit()\n",
    "\n",
    "\n",
    "# 3) Select the image we want to give an explanation for\n",
    "image = factual.squeeze(0).numpy()\n",
    "\n",
    "# 4a) Preprocessing function: function that takes as input an image and return the correct format for the black box\n",
    "def preprocessing(image):\n",
    "    return torch.tensor(image/255).float()\n",
    "\n",
    "# 4b) Predict Function of our black box: It needs to take as input the output of preprocessing and return an array of probabilities of classes with shape (-1,num_classes)\n",
    "def predict(image):\n",
    "    return model(image.unsqueeze(0))\n",
    "\n",
    "# 5) Explain an Instance\n",
    "intgrad_pt_score = ig.explain(image,1, 'black', preprocessing, predict, model_type='pytorch').reshape(28,28)\n",
    "\n",
    "plt.imshow(intgrad_pt_score,cmap='coolwarm')\n",
    "plt.colorbar()\n",
    "plt.axis('off');"
   ]
  },
  {
   "cell_type": "markdown",
   "metadata": {
    "id": "7rekd9euH_ot"
   },
   "source": [
    "## RISE"
   ]
  },
  {
   "cell_type": "code",
   "execution_count": null,
   "metadata": {
    "colab": {
     "base_uri": "https://localhost:8080/",
     "height": 210
    },
    "executionInfo": {
     "elapsed": 1848,
     "status": "ok",
     "timestamp": 1709047686650,
     "user": {
      "displayName": "claudio giovannoni",
      "userId": "16814477495340547867"
     },
     "user_tz": -60
    },
    "id": "ilpdFZjQIBPo",
    "outputId": "c7f96e72-fe1e-4f8e-88f3-d036018169c1"
   },
   "outputs": [
    {
     "data": {
      "image/png": "[encoded data removed]",
      "text/plain": [
       "<Figure size 3000x500 with 10 Axes>"
      ]
     },
     "metadata": {},
     "output_type": "display_data"
    }
   ],
   "source": [
    "from xailib.explainers.rise_explainer import RiseXAIImageExplainer\n",
    "\n",
    "class Rise_model_wrapper():\n",
    "    def __init__(self, bb, input_size):\n",
    "        self.model = bb\n",
    "        self.input_size = input_size\n",
    "\n",
    "    def predict(self, images):\n",
    "        return self.model(torch.tensor(images).reshape(-1,1,28,28).float()/255).detach().numpy()\n",
    "\n",
    "\n",
    "model_ = Rise_model_wrapper(model, (28,28))\n",
    "rise = RiseXAIImageExplainer(model_)\n",
    "\n",
    "\n",
    "N = 10 # number of random masks\n",
    "s = 8 # cell_size = input_shape / s\n",
    "p1 = 0.5 # masking probability\n",
    "\n",
    "rise.fit(N, s, p1)\n",
    "\n",
    "F,ax=plt.subplots(1,10,figsize=(30,5))\n",
    "for i in range(10):\n",
    "    ax[i].imshow(rise.masks[i,:].reshape(28,28))"
   ]
  },
  {
   "cell_type": "code",
   "execution_count": null,
   "metadata": {
    "colab": {
     "base_uri": "https://localhost:8080/",
     "height": 280
    },
    "executionInfo": {
     "elapsed": 2231,
     "status": "ok",
     "timestamp": 1709047690449,
     "user": {
      "displayName": "claudio giovannoni",
      "userId": "16814477495340547867"
     },
     "user_tz": -60
    },
    "id": "4VepT-qRIBUd",
    "outputId": "294b040b-4e47-4b6d-8ede-a456f7b8ab04"
   },
   "outputs": [
    {
     "name": "stdout",
     "output_type": "stream",
     "text": [
      "(2, 28, 28)\n"
     ]
    },
    {
     "data": {
      "image/png": "[encoded data removed]",
      "text/plain": [
       "<Figure size 1000x500 with 3 Axes>"
      ]
     },
     "metadata": {},
     "output_type": "display_data"
    }
   ],
   "source": [
    "fig, ax = plt.subplots(1,3,figsize=(10,5))\n",
    "img = factual.squeeze(0).squeeze(0).numpy()\n",
    "N = 5000\n",
    "s = 10\n",
    "p1 = 0.5\n",
    "\n",
    "rise.fit(N, s, p1)\n",
    "\n",
    "sal = rise.explain(img.reshape(28,28,1)/255)\n",
    "print(sal.shape)\n",
    "rise_score = sal[1]\n",
    "\n",
    "ax[0].imshow(img,cmap='gray')\n",
    "ax[0].axis('off')\n",
    "\n",
    "ax[1].imshow(rise_score,cmap='jet')\n",
    "ax[1].axis('off')\n",
    "\n",
    "ax[2].imshow(img,cmap='gray')\n",
    "ax[2].imshow(rise_score,cmap='jet',alpha=0.5)\n",
    "ax[2].axis('off');"
   ]
  },
  {
   "cell_type": "markdown",
   "metadata": {
    "collapsed": false,
    "id": "1-Bn6-vlTjWx"
   },
   "source": [
    "## GradCAM"
   ]
  },
  {
   "cell_type": "code",
   "execution_count": null,
   "metadata": {
    "ExecuteTime": {
     "end_time": "2024-02-26T18:06:02.558208Z",
     "start_time": "2024-02-26T18:06:02.551934Z"
    },
    "colab": {
     "base_uri": "https://localhost:8080/"
    },
    "executionInfo": {
     "elapsed": 318,
     "status": "ok",
     "timestamp": 1709043556903,
     "user": {
      "displayName": "claudio giovannoni",
      "userId": "16814477495340547867"
     },
     "user_tz": -60
    },
    "id": "humiPGC5TjWx",
    "outputId": "a760f863-8557-4b60-970c-5d35930aa627"
   },
   "outputs": [
    {
     "name": "stdout",
     "output_type": "stream",
     "text": [
      "Sequential(\n",
      "  (0): Conv2d(1, 10, kernel_size=(5, 5), stride=(1, 1))\n",
      "  (1): MaxPool2d(kernel_size=2, stride=2, padding=0, dilation=1, ceil_mode=False)\n",
      "  (2): ReLU()\n",
      "  (3): Conv2d(10, 20, kernel_size=(5, 5), stride=(1, 1))\n",
      "  (4): Dropout(p=0.5, inplace=False)\n",
      "  (5): MaxPool2d(kernel_size=2, stride=2, padding=0, dilation=1, ceil_mode=False)\n",
      "  (6): ReLU()\n",
      ")\n"
     ]
    }
   ],
   "source": [
    "print(list(model.modules())[2])"
   ]
  },
  {
   "cell_type": "code",
   "execution_count": null,
   "metadata": {
    "colab": {
     "base_uri": "https://localhost:8080/"
    },
    "executionInfo": {
     "elapsed": 10227,
     "status": "ok",
     "timestamp": 1709043433978,
     "user": {
      "displayName": "claudio giovannoni",
      "userId": "16814477495340547867"
     },
     "user_tz": -60
    },
    "id": "IUiX9B7_Y_w0",
    "outputId": "bc7e13ef-e14c-4e15-87dd-0ece5f8a377f"
   },
   "outputs": [
    {
     "name": "stdout",
     "output_type": "stream",
     "text": [
      "Collecting ttach\n",
      "  Downloading ttach-0.0.3-py3-none-any.whl (9.8 kB)\n",
      "Installing collected packages: ttach\n",
      "Successfully installed ttach-0.0.3\n"
     ]
    }
   ],
   "source": [
    "!pip install ttach"
   ]
  },
  {
   "cell_type": "code",
   "execution_count": 119,
   "metadata": {
    "ExecuteTime": {
     "end_time": "2024-02-26T18:50:25.313754Z",
     "start_time": "2024-02-26T18:50:25.262836Z"
    },
    "executionInfo": {
     "elapsed": 351,
     "status": "ok",
     "timestamp": 1709047952454,
     "user": {
      "displayName": "claudio giovannoni",
      "userId": "16814477495340547867"
     },
     "user_tz": -60
    },
    "id": "4abcCOgSTjWx"
   },
   "outputs": [],
   "source": [
    "from xailib.explainers.gradcam_explainer import GradCAMImageExplainer\n",
    "img = factual.squeeze(0)\n",
    "explainer = GradCAMImageExplainer(model)\n",
    "explainer.fit(list(model.modules())[2])\n",
    "attr = explainer.explain(img.reshape(-1,1,28,28).float()/255,1,model_type='pytorch')\n",
    "gradcam_pt_score = attr[0,:]"
   ]
  },
  {
   "cell_type": "code",
   "execution_count": 120,
   "metadata": {
    "colab": {
     "base_uri": "https://localhost:8080/",
     "height": 263
    },
    "executionInfo": {
     "elapsed": 7,
     "status": "ok",
     "timestamp": 1709047953789,
     "user": {
      "displayName": "claudio giovannoni",
      "userId": "16814477495340547867"
     },
     "user_tz": -60
    },
    "id": "fYMk5ULAgLku",
    "outputId": "6b4c8c35-d56d-49f2-8830-da4a9cebe57a"
   },
   "outputs": [
    {
     "data": {
      "image/png": "[encoded data removed]",
      "text/plain": [
       "<Figure size 1000x500 with 3 Axes>"
      ]
     },
     "metadata": {},
     "output_type": "display_data"
    }
   ],
   "source": [
    "img = img.reshape(-1,1,28,28).float()/255\n",
    "img = img.detach().view(28,28)\n",
    "\n",
    "fig, ax = plt.subplots(1,3,figsize=(10,5))\n",
    "\n",
    "ax[0].imshow(img,cmap='gray')\n",
    "ax[0].axis('off')\n",
    "\n",
    "ax[1].imshow(attr[0,:],cmap='jet')\n",
    "ax[1].axis('off')\n",
    "\n",
    "ax[2].imshow(img,cmap='gray')\n",
    "ax[2].imshow(attr[0,:],cmap='jet',alpha=0.5)\n",
    "ax[2].axis('off');"
   ]
  },
  {
   "cell_type": "markdown",
   "metadata": {
    "id": "WNnpN44W7EQK"
   },
   "source": [
    "## GradCam++"
   ]
  },
  {
   "cell_type": "code",
   "execution_count": 121,
   "metadata": {
    "executionInfo": {
     "elapsed": 390,
     "status": "ok",
     "timestamp": 1709047971633,
     "user": {
      "displayName": "claudio giovannoni",
      "userId": "16814477495340547867"
     },
     "user_tz": -60
    },
    "id": "qqUx8tP47Dtf"
   },
   "outputs": [],
   "source": [
    "from xailib.explainers.gradcam_explainer import GradCAMPlusPlusImageExplainer\n",
    "img = factual.squeeze(0)\n",
    "explainer = GradCAMPlusPlusImageExplainer(model)\n",
    "explainer.fit(list(model.modules())[2])\n",
    "attr = explainer.explain(img.reshape(-1,1,28,28).float()/255,1,model_type='pytorch')\n",
    "gradcampp_pt_score = attr[0,:]"
   ]
  },
  {
   "cell_type": "code",
   "execution_count": 122,
   "metadata": {
    "colab": {
     "base_uri": "https://localhost:8080/",
     "height": 263
    },
    "executionInfo": {
     "elapsed": 399,
     "status": "ok",
     "timestamp": 1709047973017,
     "user": {
      "displayName": "claudio giovannoni",
      "userId": "16814477495340547867"
     },
     "user_tz": -60
    },
    "id": "DPdwbc5a7Djz",
    "outputId": "cab99ecf-8733-4d15-d1c6-467011f9b979"
   },
   "outputs": [
    {
     "data": {
      "image/png": "[encoded data removed]",
      "text/plain": [
       "<Figure size 1000x500 with 3 Axes>"
      ]
     },
     "metadata": {},
     "output_type": "display_data"
    }
   ],
   "source": [
    "img = img.reshape(-1,1,28,28).float()/255\n",
    "img = img.detach().view(28,28)\n",
    "\n",
    "fig, ax = plt.subplots(1,3,figsize=(10,5))\n",
    "\n",
    "ax[0].imshow(img,cmap='gray')\n",
    "ax[0].axis('off')\n",
    "\n",
    "ax[1].imshow(attr[0,:],cmap='jet')\n",
    "ax[1].axis('off')\n",
    "\n",
    "ax[2].imshow(img,cmap='gray')\n",
    "ax[2].imshow(attr[0,:],cmap='jet',alpha=0.5)\n",
    "ax[2].axis('off');"
   ]
  },
  {
   "cell_type": "markdown",
   "metadata": {
    "id": "1e1TrZ2bMV0s"
   },
   "source": [
    "## RECAP"
   ]
  },
  {
   "cell_type": "code",
   "execution_count": 124,
   "metadata": {
    "colab": {
     "base_uri": "https://localhost:8080/",
     "height": 303
    },
    "executionInfo": {
     "elapsed": 713,
     "status": "ok",
     "timestamp": 1709047990441,
     "user": {
      "displayName": "claudio giovannoni",
      "userId": "16814477495340547867"
     },
     "user_tz": -60
    },
    "id": "jLR11i54KwA6",
    "outputId": "a9f4cd75-1431-4695-f80c-79675802e1c7"
   },
   "outputs": [
    {
     "data": {
      "image/png": "[encoded data removed]",
      "text/plain": [
       "<Figure size 2000x500 with 5 Axes>"
      ]
     },
     "metadata": {},
     "output_type": "display_data"
    }
   ],
   "source": [
    "methods = [intgrad_pt_score,lime_score,rise_score,gradcam_pt_score,gradcampp_pt_score]\n",
    "F, ax = plt.subplots(1,5,figsize=(20,5))\n",
    "for i in range(5):\n",
    "    ax[i].axis(False)\n",
    "    ax[i].imshow(methods[i])"
   ]
  },
  {
   "cell_type": "markdown",
   "metadata": {
    "collapsed": false,
    "id": "BAkNHu-iTjWx"
   },
   "source": [
    "## ABELE"
   ]
  },
  {
   "cell_type": "code",
   "execution_count": null,
   "metadata": {
    "ExecuteTime": {
     "end_time": "2024-02-26T21:18:56.743617Z",
     "start_time": "2024-02-26T21:18:56.732154Z"
    },
    "colab": {
     "base_uri": "https://localhost:8080/",
     "height": 34
    },
    "executionInfo": {
     "elapsed": 1659,
     "status": "ok",
     "timestamp": 1708985631326,
     "user": {
      "displayName": "claudio giovannoni",
      "userId": "16814477495340547867"
     },
     "user_tz": -60
    },
    "id": "dI6dtje6TjWy",
    "outputId": "bd42e4ad-5e30-4b15-eccd-7b54d9b61a49"
   },
   "outputs": [
    {
     "data": {
      "application/vnd.google.colaboratory.intrinsic+json": {
       "type": "string"
      },
      "text/plain": [
       "' Fit method\\n Arguments:\\n    X: Dataset to use to train the ae\\n    epochs: Epochs to train\\n    batch_size\\n    sample interval (see before)\\n'"
      ]
     },
     "execution_count": 17,
     "metadata": {},
     "output_type": "execute_result"
    }
   ],
   "source": [
    "import os\n",
    "import skimage\n",
    "from externals.ABELE.experiments.exputil import get_autoencoder\n",
    "from externals.ABELE.experiments.exputil import get_dataset\n",
    "import warnings\n",
    "warnings.filterwarnings('ignore')\n",
    "\n",
    "#disable eager execution in tensorflow 2.x for faster training time\n",
    "from tensorflow.python.framework.ops import disable_eager_execution\n",
    "disable_eager_execution()\n",
    "\n",
    "# The dataset to use for training\n",
    "# if you prefer to use yours load the data in two vector X_data and Y_data, set dataset variable to a custom name and custom_dataset to True\n",
    "dataset = 'mnist'\n",
    "custom_dataset = False\n",
    "if not custom_dataset:\n",
    "    X_train, Y_train, X_test, Y_test, use_rgb = get_dataset(dataset)\n",
    "\n",
    "# The type of autoencoder to train ['aae','vae']\n",
    "ae_name = 'aae'\n",
    "\n",
    "# This script will save the models weights in the folder ./path/models/abele/dataset/ae_name\n",
    "path = './'\n",
    "path_aemodels = path + 'models/abele/%s/%s/' % (dataset,ae_name)\n",
    "if not os.path.exists(path_aemodels):\n",
    "    os.makedirs(path_aemodels)\n",
    "\n",
    "# HYPER-PARAMETERS\n",
    "#define the epochs and the batch size for which the autoencoder will be trained\n",
    "epochs = 2000\n",
    "batch_size = 64\n",
    "#Print training summary every sample_interval step\n",
    "sample_interval = 50\n",
    "\n",
    "\"\"\"\n",
    " Get_autoencoder create the autoencoder class to train\n",
    " Arguments:\n",
    "    X: dataset to use to train the ae\n",
    "    ae_name: type of the autoencoder to train, only adversarial autoencoder (aae) and variational autoencoder (vae) are supported\n",
    "    path_aemodels: path where to save the weights\n",
    "    dataset: name of the dataset to use\n",
    "    OPTIONAL:\n",
    "    latent_dim: latent space dimension (only use if dataset is custom)\n",
    "    hidden_dim: hidden dimension of the autoencoders layers (ex: 1024 will create two layers of 1024 hidden units) (only use if dataset is custom)\n",
    "    num_filters: number of filter to use in the convolutional layers (only use if dataset is custom)\n",
    "\"\"\"\n",
    "ae = get_autoencoder(X_train, ae_name, path_aemodels, dataset)\n",
    "\n",
    "\"\"\" Fit method\n",
    " Arguments:\n",
    "    X: Dataset to use to train the ae\n",
    "    epochs: Epochs to train\n",
    "    batch_size\n",
    "    sample interval (see before)\n",
    "\"\"\"\n",
    "# ae.fit(X_train, epochs=epochs, batch_size=batch_size, sample_interval=sample_interval)\n",
    "# save the weights in the oath specified before\n",
    "# ae.save_model()\n",
    "# save also some sample images to test if the autoencoder is trained correctly\n",
    "# ae.sample_images(epochs)"
   ]
  },
  {
   "cell_type": "code",
   "execution_count": null,
   "metadata": {
    "colab": {
     "base_uri": "https://localhost:8080/"
    },
    "executionInfo": {
     "elapsed": 5601,
     "status": "ok",
     "timestamp": 1708985641740,
     "user": {
      "displayName": "claudio giovannoni",
      "userId": "16814477495340547867"
     },
     "user_tz": -60
    },
    "id": "eHn61vS8ZQkq",
    "outputId": "1d125c8a-870d-451a-f0c1-89a0a06263d6"
   },
   "outputs": [
    {
     "name": "stdout",
     "output_type": "stream",
     "text": [
      "Requirement already satisfied: deap in /usr/local/lib/python3.10/dist-packages (1.4.1)\n",
      "Requirement already satisfied: numpy in /usr/local/lib/python3.10/dist-packages (from deap) (1.25.2)\n"
     ]
    }
   ],
   "source": [
    "!pip install deap"
   ]
  },
  {
   "cell_type": "code",
   "execution_count": null,
   "metadata": {
    "ExecuteTime": {
     "end_time": "2024-02-26T20:29:05.342481Z",
     "start_time": "2024-02-26T20:29:05.328948Z"
    },
    "colab": {
     "base_uri": "https://localhost:8080/",
     "height": 357
    },
    "executionInfo": {
     "elapsed": 1531,
     "status": "error",
     "timestamp": 1708985643268,
     "user": {
      "displayName": "claudio giovannoni",
      "userId": "16814477495340547867"
     },
     "user_tz": -60
    },
    "id": "HBTkVqgQTjWy",
    "outputId": "bb275a6b-5019-4cfe-9a2e-a86734f3fb55"
   },
   "outputs": [
    {
     "name": "stdout",
     "output_type": "stream",
     "text": [
      "generating neighborhood - hrg\n"
     ]
    },
    {
     "ename": "AttributeError",
     "evalue": "'Autoencoder' object has no attribute 'encode'",
     "output_type": "error",
     "traceback": [
      "\u001b[0;31m---------------------------------------------------------------------------\u001b[0m",
      "\u001b[0;31mAttributeError\u001b[0m                            Traceback (most recent call last)",
      "\u001b[0;32m<ipython-input-19-b56c149b646f>\u001b[0m in \u001b[0;36m<cell line: 123>\u001b[0;34m()\u001b[0m\n\u001b[1;32m    121\u001b[0m     \u001b[0mlimg\u001b[0m\u001b[0;34m:\u001b[0m \u001b[0mlatent\u001b[0m \u001b[0mspace\u001b[0m \u001b[0mrepresentation\u001b[0m \u001b[0mof\u001b[0m \u001b[0mthe\u001b[0m \u001b[0mimage\u001b[0m\u001b[0;34m\u001b[0m\u001b[0;34m\u001b[0m\u001b[0m\n\u001b[1;32m    122\u001b[0m \"\"\"\n\u001b[0;32m--> 123\u001b[0;31m \u001b[0mexp\u001b[0m \u001b[0;34m=\u001b[0m \u001b[0mexplainer\u001b[0m\u001b[0;34m.\u001b[0m\u001b[0mexplain\u001b[0m\u001b[0;34m(\u001b[0m\u001b[0mimg\u001b[0m\u001b[0;34m,\u001b[0m \u001b[0mnum_samples\u001b[0m\u001b[0;34m=\u001b[0m\u001b[0;36m300\u001b[0m\u001b[0;34m,\u001b[0m \u001b[0muse_weights\u001b[0m\u001b[0;34m=\u001b[0m\u001b[0;32mTrue\u001b[0m\u001b[0;34m)\u001b[0m\u001b[0;34m\u001b[0m\u001b[0;34m\u001b[0m\u001b[0m\n\u001b[0m\u001b[1;32m    124\u001b[0m \u001b[0;34m\u001b[0m\u001b[0m\n\u001b[1;32m    125\u001b[0m \u001b[0;31m# time\u001b[0m\u001b[0;34m\u001b[0m\u001b[0;34m\u001b[0m\u001b[0m\n",
      "\u001b[0;32m/content/xai_croco/XAI_course_2024-main/xailib/explainers/abele_explainer.py\u001b[0m in \u001b[0;36mexplain\u001b[0;34m(self, img, num_samples, use_weights, metric)\u001b[0m\n\u001b[1;32m     34\u001b[0m \u001b[0;34m\u001b[0m\u001b[0m\n\u001b[1;32m     35\u001b[0m     \u001b[0;32mdef\u001b[0m \u001b[0mexplain\u001b[0m\u001b[0;34m(\u001b[0m\u001b[0mself\u001b[0m\u001b[0;34m,\u001b[0m \u001b[0mimg\u001b[0m\u001b[0;34m,\u001b[0m \u001b[0mnum_samples\u001b[0m\u001b[0;34m=\u001b[0m\u001b[0;36m300\u001b[0m\u001b[0;34m,\u001b[0m \u001b[0muse_weights\u001b[0m\u001b[0;34m=\u001b[0m\u001b[0;32mTrue\u001b[0m\u001b[0;34m,\u001b[0m \u001b[0mmetric\u001b[0m\u001b[0;34m=\u001b[0m\u001b[0mneuclidean\u001b[0m\u001b[0;34m)\u001b[0m\u001b[0;34m:\u001b[0m\u001b[0;34m\u001b[0m\u001b[0;34m\u001b[0m\u001b[0m\n\u001b[0;32m---> 36\u001b[0;31m         \u001b[0;32mreturn\u001b[0m \u001b[0mABELEImageExplanation\u001b[0m\u001b[0;34m(\u001b[0m\u001b[0mself\u001b[0m\u001b[0;34m.\u001b[0m\u001b[0mexp\u001b[0m\u001b[0;34m.\u001b[0m\u001b[0mexplain_instance\u001b[0m\u001b[0;34m(\u001b[0m\u001b[0mimg\u001b[0m\u001b[0;34m,\u001b[0m \u001b[0mnum_samples\u001b[0m\u001b[0;34m=\u001b[0m\u001b[0mnum_samples\u001b[0m\u001b[0;34m,\u001b[0m \u001b[0muse_weights\u001b[0m\u001b[0;34m=\u001b[0m\u001b[0muse_weights\u001b[0m\u001b[0;34m,\u001b[0m \u001b[0mmetric\u001b[0m\u001b[0;34m=\u001b[0m\u001b[0mmetric\u001b[0m\u001b[0;34m)\u001b[0m\u001b[0;34m)\u001b[0m\u001b[0;34m\u001b[0m\u001b[0;34m\u001b[0m\u001b[0m\n\u001b[0m\u001b[1;32m     37\u001b[0m \u001b[0;34m\u001b[0m\u001b[0m\n",
      "\u001b[0;32m/content/xai_croco/XAI_course_2024-main/externals/ABELE/ilore/ilorem.py\u001b[0m in \u001b[0;36mexplain_instance\u001b[0;34m(self, img, num_samples, use_weights, metric)\u001b[0m\n\u001b[1;32m     99\u001b[0m             \u001b[0mprint\u001b[0m\u001b[0;34m(\u001b[0m\u001b[0;34m'generating neighborhood - %s'\u001b[0m \u001b[0;34m%\u001b[0m \u001b[0mself\u001b[0m\u001b[0;34m.\u001b[0m\u001b[0mneigh_type\u001b[0m\u001b[0;34m)\u001b[0m\u001b[0;34m\u001b[0m\u001b[0;34m\u001b[0m\u001b[0m\n\u001b[1;32m    100\u001b[0m \u001b[0;34m\u001b[0m\u001b[0m\n\u001b[0;32m--> 101\u001b[0;31m         \u001b[0mZ\u001b[0m\u001b[0;34m,\u001b[0m \u001b[0mYb\u001b[0m\u001b[0;34m,\u001b[0m \u001b[0mclass_value\u001b[0m \u001b[0;34m=\u001b[0m \u001b[0mself\u001b[0m\u001b[0;34m.\u001b[0m\u001b[0mneighgen_fn\u001b[0m\u001b[0;34m(\u001b[0m\u001b[0mimg\u001b[0m\u001b[0;34m,\u001b[0m \u001b[0mnum_samples\u001b[0m\u001b[0;34m)\u001b[0m\u001b[0;34m\u001b[0m\u001b[0;34m\u001b[0m\u001b[0m\n\u001b[0m\u001b[1;32m    102\u001b[0m \u001b[0;34m\u001b[0m\u001b[0m\n\u001b[1;32m    103\u001b[0m         \u001b[0;32mif\u001b[0m \u001b[0mself\u001b[0m\u001b[0;34m.\u001b[0m\u001b[0mverbose\u001b[0m\u001b[0;34m:\u001b[0m\u001b[0;34m\u001b[0m\u001b[0;34m\u001b[0m\u001b[0m\n",
      "\u001b[0;32m/content/xai_croco/XAI_course_2024-main/externals/ABELE/ilore/ineighgen.py\u001b[0m in \u001b[0;36mgenerate\u001b[0;34m(self, img, num_samples)\u001b[0m\n\u001b[1;32m    378\u001b[0m \u001b[0;34m\u001b[0m\u001b[0m\n\u001b[1;32m    379\u001b[0m     \u001b[0;32mdef\u001b[0m \u001b[0mgenerate\u001b[0m\u001b[0;34m(\u001b[0m\u001b[0mself\u001b[0m\u001b[0;34m,\u001b[0m \u001b[0mimg\u001b[0m\u001b[0;34m,\u001b[0m \u001b[0mnum_samples\u001b[0m\u001b[0;34m=\u001b[0m\u001b[0;36m1000\u001b[0m\u001b[0;34m)\u001b[0m\u001b[0;34m:\u001b[0m\u001b[0;34m\u001b[0m\u001b[0;34m\u001b[0m\u001b[0m\n\u001b[0;32m--> 380\u001b[0;31m         \u001b[0mZr\u001b[0m\u001b[0;34m,\u001b[0m \u001b[0mYbr\u001b[0m\u001b[0;34m,\u001b[0m \u001b[0mclass_value\u001b[0m \u001b[0;34m=\u001b[0m \u001b[0mImageRandomAdversarialGeneratorLatent\u001b[0m\u001b[0;34m.\u001b[0m\u001b[0mgenerate\u001b[0m\u001b[0;34m(\u001b[0m\u001b[0mself\u001b[0m\u001b[0;34m,\u001b[0m \u001b[0mimg\u001b[0m\u001b[0;34m,\u001b[0m \u001b[0mnum_samples\u001b[0m \u001b[0;34m//\u001b[0m \u001b[0;36m2\u001b[0m\u001b[0;34m)\u001b[0m\u001b[0;34m\u001b[0m\u001b[0;34m\u001b[0m\u001b[0m\n\u001b[0m\u001b[1;32m    381\u001b[0m         \u001b[0mZg\u001b[0m\u001b[0;34m,\u001b[0m \u001b[0mYbg\u001b[0m\u001b[0;34m,\u001b[0m \u001b[0m_\u001b[0m \u001b[0;34m=\u001b[0m \u001b[0mImageGeneticAdversarialGeneratorLatent\u001b[0m\u001b[0;34m.\u001b[0m\u001b[0mgenerate\u001b[0m\u001b[0;34m(\u001b[0m\u001b[0mself\u001b[0m\u001b[0;34m,\u001b[0m \u001b[0mimg\u001b[0m\u001b[0;34m,\u001b[0m \u001b[0mnum_samples\u001b[0m \u001b[0;34m//\u001b[0m \u001b[0;36m2\u001b[0m\u001b[0;34m)\u001b[0m\u001b[0;34m\u001b[0m\u001b[0;34m\u001b[0m\u001b[0m\n\u001b[1;32m    382\u001b[0m         \u001b[0mZ\u001b[0m \u001b[0;34m=\u001b[0m \u001b[0mnp\u001b[0m\u001b[0;34m.\u001b[0m\u001b[0mconcatenate\u001b[0m\u001b[0;34m(\u001b[0m\u001b[0;34m(\u001b[0m\u001b[0mZr\u001b[0m\u001b[0;34m,\u001b[0m \u001b[0mZg\u001b[0m\u001b[0;34m[\u001b[0m\u001b[0;36m1\u001b[0m\u001b[0;34m:\u001b[0m\u001b[0;34m]\u001b[0m\u001b[0;34m)\u001b[0m\u001b[0;34m,\u001b[0m \u001b[0maxis\u001b[0m\u001b[0;34m=\u001b[0m\u001b[0;36m0\u001b[0m\u001b[0;34m)\u001b[0m\u001b[0;34m\u001b[0m\u001b[0;34m\u001b[0m\u001b[0m\n",
      "\u001b[0;32m/content/xai_croco/XAI_course_2024-main/externals/ABELE/ilore/ineighgen.py\u001b[0m in \u001b[0;36mgenerate\u001b[0;34m(self, img, num_samples)\u001b[0m\n\u001b[1;32m    158\u001b[0m         \u001b[0;31m# generate neighborhood in latent space, decode and label it\u001b[0m\u001b[0;34m\u001b[0m\u001b[0;34m\u001b[0m\u001b[0m\n\u001b[1;32m    159\u001b[0m         \u001b[0mlZ_img\u001b[0m \u001b[0;34m=\u001b[0m \u001b[0mself\u001b[0m\u001b[0;34m.\u001b[0m\u001b[0mgenerate_latent_samples\u001b[0m\u001b[0;34m(\u001b[0m\u001b[0mnum_samples\u001b[0m\u001b[0;34m)\u001b[0m\u001b[0;34m\u001b[0m\u001b[0;34m\u001b[0m\u001b[0m\n\u001b[0;32m--> 160\u001b[0;31m         \u001b[0mlZ_img\u001b[0m\u001b[0;34m[\u001b[0m\u001b[0;36m0\u001b[0m\u001b[0;34m]\u001b[0m \u001b[0;34m=\u001b[0m \u001b[0mself\u001b[0m\u001b[0;34m.\u001b[0m\u001b[0mautoencoder\u001b[0m\u001b[0;34m.\u001b[0m\u001b[0mencode\u001b[0m\u001b[0;34m(\u001b[0m\u001b[0mnp\u001b[0m\u001b[0;34m.\u001b[0m\u001b[0marray\u001b[0m\u001b[0;34m(\u001b[0m\u001b[0;34m[\u001b[0m\u001b[0mimg\u001b[0m\u001b[0;34m]\u001b[0m\u001b[0;34m)\u001b[0m\u001b[0;34m)\u001b[0m\u001b[0;34m[\u001b[0m\u001b[0;36m0\u001b[0m\u001b[0;34m]\u001b[0m\u001b[0;34m\u001b[0m\u001b[0;34m\u001b[0m\u001b[0m\n\u001b[0m\u001b[1;32m    161\u001b[0m         \u001b[0;31m# print('Latent space')\u001b[0m\u001b[0;34m\u001b[0m\u001b[0;34m\u001b[0m\u001b[0m\n\u001b[1;32m    162\u001b[0m         \u001b[0;31m# print(lZ_img[:5])\u001b[0m\u001b[0;34m\u001b[0m\u001b[0;34m\u001b[0m\u001b[0m\n",
      "\u001b[0;32m/usr/local/lib/python3.10/dist-packages/torch/nn/modules/module.py\u001b[0m in \u001b[0;36m__getattr__\u001b[0;34m(self, name)\u001b[0m\n\u001b[1;32m   1693\u001b[0m             \u001b[0;32mif\u001b[0m \u001b[0mname\u001b[0m \u001b[0;32min\u001b[0m \u001b[0mmodules\u001b[0m\u001b[0;34m:\u001b[0m\u001b[0;34m\u001b[0m\u001b[0;34m\u001b[0m\u001b[0m\n\u001b[1;32m   1694\u001b[0m                 \u001b[0;32mreturn\u001b[0m \u001b[0mmodules\u001b[0m\u001b[0;34m[\u001b[0m\u001b[0mname\u001b[0m\u001b[0;34m]\u001b[0m\u001b[0;34m\u001b[0m\u001b[0;34m\u001b[0m\u001b[0m\n\u001b[0;32m-> 1695\u001b[0;31m         \u001b[0;32mraise\u001b[0m \u001b[0mAttributeError\u001b[0m\u001b[0;34m(\u001b[0m\u001b[0;34mf\"'{type(self).__name__}' object has no attribute '{name}'\"\u001b[0m\u001b[0;34m)\u001b[0m\u001b[0;34m\u001b[0m\u001b[0;34m\u001b[0m\u001b[0m\n\u001b[0m\u001b[1;32m   1696\u001b[0m \u001b[0;34m\u001b[0m\u001b[0m\n\u001b[1;32m   1697\u001b[0m     \u001b[0;32mdef\u001b[0m \u001b[0m__setattr__\u001b[0m\u001b[0;34m(\u001b[0m\u001b[0mself\u001b[0m\u001b[0;34m,\u001b[0m \u001b[0mname\u001b[0m\u001b[0;34m:\u001b[0m \u001b[0mstr\u001b[0m\u001b[0;34m,\u001b[0m \u001b[0mvalue\u001b[0m\u001b[0;34m:\u001b[0m \u001b[0mUnion\u001b[0m\u001b[0;34m[\u001b[0m\u001b[0mTensor\u001b[0m\u001b[0;34m,\u001b[0m \u001b[0;34m'Module'\u001b[0m\u001b[0;34m]\u001b[0m\u001b[0;34m)\u001b[0m \u001b[0;34m->\u001b[0m \u001b[0;32mNone\u001b[0m\u001b[0;34m:\u001b[0m\u001b[0;34m\u001b[0m\u001b[0;34m\u001b[0m\u001b[0m\n",
      "\u001b[0;31mAttributeError\u001b[0m: 'Autoencoder' object has no attribute 'encode'"
     ]
    }
   ],
   "source": [
    "import numpy as np\n",
    "import matplotlib.pyplot as plt\n",
    "import tensorflow as tf\n",
    "import time\n",
    "from skimage.color import gray2rgb, rgb2gray\n",
    "from skimage import feature, transform\n",
    "\n",
    "from xailib.explainers.abele_explainer import ABELEImageExplainer\n",
    "from externals.ABELE.experiments.exputil import get_dataset\n",
    "from externals.ABELE.experiments.exputil import get_autoencoder\n",
    "\n",
    "from keras.src.saving import serialization_lib\n",
    "serialization_lib.enable_unsafe_deserialization()\n",
    "\n",
    "'''The above two lines added for the following error - ValueError: Requested the deserialization of a Lambda layer with a\n",
    "Python `lambda` inside it. This carries a potential risk of arbitrary code execution and thus it is disallowed by default.\n",
    "If you trust the source of the saved model, #you can pass `safe_mode=False` to the loading function in order\n",
    "to allow Lambda layer loading. '''\n",
    "\n",
    "import warnings\n",
    "warnings.filterwarnings('ignore')\n",
    "\n",
    "random_state = 0\n",
    "dataset = 'mnist'\n",
    "black_box = 'AB' #agnostic Black Box\n",
    "\n",
    "# load autoencoder and black box\n",
    "ae_name = 'aae'\n",
    "path = './'\n",
    "path_aemodels = path + 'models/abele/%s/%s/' % (dataset, ae_name)\n",
    "#bb = tf.keras.models.load_model(\"./models/cnn_simple_mnist_no_pickle\")\n",
    "bb = model\n",
    "\n",
    "# defining a functions for bb to return the class index value\n",
    "def bb_predict(image):\n",
    "    return np.argmax(model(torch.tensor(rgb2gray(image/255).reshape(-1,1,28,28)).float()).detach().numpy(),axis=1)\n",
    "#def bb_predict(X):\n",
    "#    X = X.astype(float)\n",
    "#    Y = bb.predict(rgb2gray(X).reshape(-1,28,28,1))\n",
    "#    return np.argmax(Y, axis=1)\n",
    "\n",
    "# load data\n",
    "X_train, Y_train, X_test, Y_test, _ = get_dataset(dataset)\n",
    "\n",
    "# index Image 2 Explain\n",
    "i2e = 80\n",
    "img = factual.squeeze(0).numpy()\n",
    "# time\n",
    "start = time.time()\n",
    "\n",
    "# create explainer\n",
    "\"\"\"\n",
    "Arguments:\n",
    "    bb_predict: function which return the prediction of the blackbox in form index of the class\n",
    "    class_name: name of the class used when printing rules (class_name: class_value)\n",
    "    class_values: list of names of the classes (class_name: class_value)\n",
    "    neigh_type: select the nighbourhood type,\n",
    "                supportecd types:\n",
    "                'gnt' : genetic\n",
    "                'rnd' : random\n",
    "                'hrg' : hybrid-random-genetic\n",
    "                'gntp': genetic probabilistic\n",
    "                'hrgp': hybrid probabilistic\n",
    "    ocr: [0.1] other class values, ratio of other class from the one predicted in the neighbourhood\n",
    "    kernel: [None] Kernel to weights the point in the nieghbourhood\n",
    "    kernel_width : [None]\n",
    "    autoencoder: Autoencoder to generate the latent space points\n",
    "    use_rgb = [True] Set to True if the input images are rgb, False for grayscale\n",
    "    filter_crules: [None] if True Prototypes are checked by the black box to be the same class of the query image\n",
    "    random_state: set the seed of the random state\n",
    "    verbose: True if you want to print more informations\n",
    "    NEIGHBOURHOOD PARAMETERS: the following parameters are Neighbourhood specific and may not apply to all of the neighbourhood types\n",
    "        valid_thr: [0.5] threshold to change class in the autoencoder disciminator\n",
    "        alpha1: [0.5] weight of the feature similarity of the neighbourhood points\n",
    "        alpha2: [0.5] weight of the target similarity of the neighbourhood points\n",
    "        ngen: [100] number of generations of the genetic algorithm\n",
    "        mutpb: [0.2] The probability of mutating an individual in the genetic algorithm\n",
    "        cxpb: [0.5] The probability of mating two individuals in the genetic algorithm\n",
    "        tournsize: [3] number of tournaments in the genetic algorithm\n",
    "        hallooffame_ratio: [0.1] Fraction of exemplars to keep at every genetic generation\n",
    "\"\"\"\n",
    "config = {'bb_predict':bb_predict,\n",
    "          'class_name':'class',\n",
    "          'class_values':['%s' % i for i in range(len(np.unique(Y_test)))],\n",
    "          'neigh_type':'hrg',\n",
    "          'ocr':0.1, #other class ratio in the neighbourhood\n",
    "          'kernel_width':None,\n",
    "          'kernel':None,\n",
    "          'autoencoder':autoencoder,\n",
    "          'use_rgb':True,\n",
    "          'filter_crules':False,\n",
    "          'random_state':random_state,\n",
    "          'verbose':True,\n",
    "          'valid_thr':0.5,\n",
    "          'alpha1':0.5,\n",
    "          'alpha2':0.5,\n",
    "          'ngen':100,\n",
    "          'mutpb':0.2,\n",
    "          'cxpb':0.5,\n",
    "          'tournsize':3,\n",
    "          'halloffame_ratio':0.1}\n",
    "\n",
    "\n",
    "explainer = ABELEImageExplainer(bb)\n",
    "explainer.fit(config)\n",
    "\n",
    "#generate explanation\n",
    "\"\"\"\n",
    "generate an explanation for a given image\n",
    "Arguments:\n",
    "    img: the image to explain\n",
    "    num_samples: [1000] number of samples to generate with the neighbourhood algorithm\n",
    "    use_weights: [True] if weights the points using distance\n",
    "Return:\n",
    "Explanation object compose by several things\n",
    "    rstr: string describing the rule\n",
    "    cstr: string describing the counterfactual rule\n",
    "    bb_pred: black box prediction of the image\n",
    "    dt_pred: decisoon tree prediction\n",
    "    fidelity: fidelity between black box and the decision tree\n",
    "    limg: latent space representation of the image\n",
    "\"\"\"\n",
    "exp = explainer.explain(img, num_samples=300, use_weights=True)\n",
    "\n",
    "# time\n",
    "end = time.time()\n",
    "print('--------------------------')\n",
    "print('execution time: ',end - start,' sec')\n",
    "print('e = {\\n\\tr = %s\\n\\tc = %s    \\n}' % (exp.getRules(), exp.getCounterfactualRules()))\n",
    "print('--------------------------')\n",
    "print('bb prediction of the image: ',exp.exp.bb_pred,'dt prediction: ',exp.exp.dt_pred,'fidelity: ',exp.exp.fidelity)\n",
    "print('latent space representation: ',exp.exp.limg)"
   ]
  }
 ],
 "metadata": {
  "colab": {
   "provenance": []
  },
  "kernelspec": {
   "display_name": "Python 3",
   "language": "python",
   "name": "python3"
  },
  "language_info": {
   "codemirror_mode": {
    "name": "ipython",
    "version": 3
   },
   "file_extension": ".py",
   "mimetype": "text/x-python",
   "name": "python",
   "nbconvert_exporter": "python",
   "pygments_lexer": "ipython3",
   "version": "3.8.5"
  },
  "widgets": {
   "application/vnd.jupyter.widget-state+json": {
    "64e85195d4e4403dabad2335e5ab7451": {
     "model_module": "@jupyter-widgets/controls",
     "model_module_version": "1.5.0",
     "model_name": "HTMLModel",
     "state": {
      "_dom_classes": [],
      "_model_module": "@jupyter-widgets/controls",
      "_model_module_version": "1.5.0",
      "_model_name": "HTMLModel",
      "_view_count": null,
      "_view_module": "@jupyter-widgets/controls",
      "_view_module_version": "1.5.0",
      "_view_name": "HTMLView",
      "description": "",
      "description_tooltip": null,
      "layout": "IPY_MODEL_f592238d720442f49326d0f5bc643a09",
      "placeholder": "​",
      "style": "IPY_MODEL_d34043415b1a4ab3ae151ab96935f09e",
      "value": " 1000/1000 [00:00&lt;00:00, 2353.00it/s]"
     }
    },
    "6b72a1c0f349469896dfa3a651e6128e": {
     "model_module": "@jupyter-widgets/base",
     "model_module_version": "1.2.0",
     "model_name": "LayoutModel",
     "state": {
      "_model_module": "@jupyter-widgets/base",
      "_model_module_version": "1.2.0",
      "_model_name": "LayoutModel",
      "_view_count": null,
      "_view_module": "@jupyter-widgets/base",
      "_view_module_version": "1.2.0",
      "_view_name": "LayoutView",
      "align_content": null,
      "align_items": null,
      "align_self": null,
      "border": null,
      "bottom": null,
      "display": null,
      "flex": null,
      "flex_flow": null,
      "grid_area": null,
      "grid_auto_columns": null,
      "grid_auto_flow": null,
      "grid_auto_rows": null,
      "grid_column": null,
      "grid_gap": null,
      "grid_row": null,
      "grid_template_areas": null,
      "grid_template_columns": null,
      "grid_template_rows": null,
      "height": null,
      "justify_content": null,
      "justify_items": null,
      "left": null,
      "margin": null,
      "max_height": null,
      "max_width": null,
      "min_height": null,
      "min_width": null,
      "object_fit": null,
      "object_position": null,
      "order": null,
      "overflow": null,
      "overflow_x": null,
      "overflow_y": null,
      "padding": null,
      "right": null,
      "top": null,
      "visibility": null,
      "width": null
     }
    },
    "79dc28ef3df6487ca800b31a3ebb083c": {
     "model_module": "@jupyter-widgets/base",
     "model_module_version": "1.2.0",
     "model_name": "LayoutModel",
     "state": {
      "_model_module": "@jupyter-widgets/base",
      "_model_module_version": "1.2.0",
      "_model_name": "LayoutModel",
      "_view_count": null,
      "_view_module": "@jupyter-widgets/base",
      "_view_module_version": "1.2.0",
      "_view_name": "LayoutView",
      "align_content": null,
      "align_items": null,
      "align_self": null,
      "border": null,
      "bottom": null,
      "display": null,
      "flex": null,
      "flex_flow": null,
      "grid_area": null,
      "grid_auto_columns": null,
      "grid_auto_flow": null,
      "grid_auto_rows": null,
      "grid_column": null,
      "grid_gap": null,
      "grid_row": null,
      "grid_template_areas": null,
      "grid_template_columns": null,
      "grid_template_rows": null,
      "height": null,
      "justify_content": null,
      "justify_items": null,
      "left": null,
      "margin": null,
      "max_height": null,
      "max_width": null,
      "min_height": null,
      "min_width": null,
      "object_fit": null,
      "object_position": null,
      "order": null,
      "overflow": null,
      "overflow_x": null,
      "overflow_y": null,
      "padding": null,
      "right": null,
      "top": null,
      "visibility": null,
      "width": null
     }
    },
    "7f2f366372af4961876ea83037929a2f": {
     "model_module": "@jupyter-widgets/controls",
     "model_module_version": "1.5.0",
     "model_name": "HBoxModel",
     "state": {
      "_dom_classes": [],
      "_model_module": "@jupyter-widgets/controls",
      "_model_module_version": "1.5.0",
      "_model_name": "HBoxModel",
      "_view_count": null,
      "_view_module": "@jupyter-widgets/controls",
      "_view_module_version": "1.5.0",
      "_view_name": "HBoxView",
      "box_style": "",
      "children": [
       "IPY_MODEL_a0b13faffe5e4de0a1026aec6324133a",
       "IPY_MODEL_8cf21a8b20974427b3157895a6e221f9",
       "IPY_MODEL_64e85195d4e4403dabad2335e5ab7451"
      ],
      "layout": "IPY_MODEL_6b72a1c0f349469896dfa3a651e6128e"
     }
    },
    "8566496ff86e4b5fb38c2abb68fcf8ea": {
     "model_module": "@jupyter-widgets/controls",
     "model_module_version": "1.5.0",
     "model_name": "DescriptionStyleModel",
     "state": {
      "_model_module": "@jupyter-widgets/controls",
      "_model_module_version": "1.5.0",
      "_model_name": "DescriptionStyleModel",
      "_view_count": null,
      "_view_module": "@jupyter-widgets/base",
      "_view_module_version": "1.2.0",
      "_view_name": "StyleView",
      "description_width": ""
     }
    },
    "8cf21a8b20974427b3157895a6e221f9": {
     "model_module": "@jupyter-widgets/controls",
     "model_module_version": "1.5.0",
     "model_name": "FloatProgressModel",
     "state": {
      "_dom_classes": [],
      "_model_module": "@jupyter-widgets/controls",
      "_model_module_version": "1.5.0",
      "_model_name": "FloatProgressModel",
      "_view_count": null,
      "_view_module": "@jupyter-widgets/controls",
      "_view_module_version": "1.5.0",
      "_view_name": "ProgressView",
      "bar_style": "success",
      "description": "",
      "description_tooltip": null,
      "layout": "IPY_MODEL_79dc28ef3df6487ca800b31a3ebb083c",
      "max": 1000,
      "min": 0,
      "orientation": "horizontal",
      "style": "IPY_MODEL_8d2e741a7fc540b9bb084fb49d7eb49c",
      "value": 1000
     }
    },
    "8d2e741a7fc540b9bb084fb49d7eb49c": {
     "model_module": "@jupyter-widgets/controls",
     "model_module_version": "1.5.0",
     "model_name": "ProgressStyleModel",
     "state": {
      "_model_module": "@jupyter-widgets/controls",
      "_model_module_version": "1.5.0",
      "_model_name": "ProgressStyleModel",
      "_view_count": null,
      "_view_module": "@jupyter-widgets/base",
      "_view_module_version": "1.2.0",
      "_view_name": "StyleView",
      "bar_color": null,
      "description_width": ""
     }
    },
    "a0b13faffe5e4de0a1026aec6324133a": {
     "model_module": "@jupyter-widgets/controls",
     "model_module_version": "1.5.0",
     "model_name": "HTMLModel",
     "state": {
      "_dom_classes": [],
      "_model_module": "@jupyter-widgets/controls",
      "_model_module_version": "1.5.0",
      "_model_name": "HTMLModel",
      "_view_count": null,
      "_view_module": "@jupyter-widgets/controls",
      "_view_module_version": "1.5.0",
      "_view_name": "HTMLView",
      "description": "",
      "description_tooltip": null,
      "layout": "IPY_MODEL_de442821b3a8486fb2c35697480b8485",
      "placeholder": "​",
      "style": "IPY_MODEL_8566496ff86e4b5fb38c2abb68fcf8ea",
      "value": "100%"
     }
    },
    "d34043415b1a4ab3ae151ab96935f09e": {
     "model_module": "@jupyter-widgets/controls",
     "model_module_version": "1.5.0",
     "model_name": "DescriptionStyleModel",
     "state": {
      "_model_module": "@jupyter-widgets/controls",
      "_model_module_version": "1.5.0",
      "_model_name": "DescriptionStyleModel",
      "_view_count": null,
      "_view_module": "@jupyter-widgets/base",
      "_view_module_version": "1.2.0",
      "_view_name": "StyleView",
      "description_width": ""
     }
    },
    "de442821b3a8486fb2c35697480b8485": {
     "model_module": "@jupyter-widgets/base",
     "model_module_version": "1.2.0",
     "model_name": "LayoutModel",
     "state": {
      "_model_module": "@jupyter-widgets/base",
      "_model_module_version": "1.2.0",
      "_model_name": "LayoutModel",
      "_view_count": null,
      "_view_module": "@jupyter-widgets/base",
      "_view_module_version": "1.2.0",
      "_view_name": "LayoutView",
      "align_content": null,
      "align_items": null,
      "align_self": null,
      "border": null,
      "bottom": null,
      "display": null,
      "flex": null,
      "flex_flow": null,
      "grid_area": null,
      "grid_auto_columns": null,
      "grid_auto_flow": null,
      "grid_auto_rows": null,
      "grid_column": null,
      "grid_gap": null,
      "grid_row": null,
      "grid_template_areas": null,
      "grid_template_columns": null,
      "grid_template_rows": null,
      "height": null,
      "justify_content": null,
      "justify_items": null,
      "left": null,
      "margin": null,
      "max_height": null,
      "max_width": null,
      "min_height": null,
      "min_width": null,
      "object_fit": null,
      "object_position": null,
      "order": null,
      "overflow": null,
      "overflow_x": null,
      "overflow_y": null,
      "padding": null,
      "right": null,
      "top": null,
      "visibility": null,
      "width": null
     }
    },
    "f592238d720442f49326d0f5bc643a09": {
     "model_module": "@jupyter-widgets/base",
     "model_module_version": "1.2.0",
     "model_name": "LayoutModel",
     "state": {
      "_model_module": "@jupyter-widgets/base",
      "_model_module_version": "1.2.0",
      "_model_name": "LayoutModel",
      "_view_count": null,
      "_view_module": "@jupyter-widgets/base",
      "_view_module_version": "1.2.0",
      "_view_name": "LayoutView",
      "align_content": null,
      "align_items": null,
      "align_self": null,
      "border": null,
      "bottom": null,
      "display": null,
      "flex": null,
      "flex_flow": null,
      "grid_area": null,
      "grid_auto_columns": null,
      "grid_auto_flow": null,
      "grid_auto_rows": null,
      "grid_column": null,
      "grid_gap": null,
      "grid_row": null,
      "grid_template_areas": null,
      "grid_template_columns": null,
      "grid_template_rows": null,
      "height": null,
      "justify_content": null,
      "justify_items": null,
      "left": null,
      "margin": null,
      "max_height": null,
      "max_width": null,
      "min_height": null,
      "min_width": null,
      "object_fit": null,
      "object_position": null,
      "order": null,
      "overflow": null,
      "overflow_x": null,
      "overflow_y": null,
      "padding": null,
      "right": null,
      "top": null,
      "visibility": null,
      "width": null
     }
    }
   }
  }
 },
 "nbformat": 4,
 "nbformat_minor": 0
}
