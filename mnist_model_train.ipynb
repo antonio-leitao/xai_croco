{
 "cells": [
  {
   "cell_type": "markdown",
   "metadata": {},
   "source": [
    "# First model\n",
    "\n",
    "Classifies image into [0...10]"
   ]
  },
  {
   "cell_type": "code",
   "execution_count": 15,
   "metadata": {},
   "outputs": [],
   "source": [
    "import torch\n",
    "import torchvision\n",
    "from torchvision.utils import make_grid\n",
    "import torch.nn as nn\n",
    "import torch.nn.functional as F\n",
    "import torch.optim as optim\n",
    "from tqdm.notebook import tqdm\n",
    "from torchvision.datasets import MNIST\n",
    "from torchvision.transforms import Compose, ToTensor, Normalize\n",
    "from torch.utils.data import DataLoader, Dataset\n",
    "import matplotlib.pyplot as plt"
   ]
  },
  {
   "cell_type": "code",
   "execution_count": 17,
   "metadata": {},
   "outputs": [],
   "source": [
    "batch_size_train = 64\n",
    "batch_size_test = 1000\n",
    "\n",
    "\n",
    "train_loader = DataLoader(MNIST('mnist_data/', train=True, download=True,\n",
    "                             transform=Compose([\n",
    "                               ToTensor(),\n",
    "                               Normalize(\n",
    "                                 (0.1307,), (0.3081,))\n",
    "                             ])),\n",
    "  batch_size=batch_size_train, shuffle=True)\n",
    "\n",
    "test_loader = DataLoader(MNIST('mnist_data/', train=False, download=True,\n",
    "                             transform=Compose([\n",
    "                               ToTensor(),\n",
    "                               Normalize(\n",
    "                                 (0.1307,), (0.3081,))\n",
    "                             ])),\n",
    "  batch_size=batch_size_test, shuffle=True)"
   ]
  },
  {
   "cell_type": "code",
   "execution_count": 3,
   "metadata": {},
   "outputs": [
    {
     "data": {
      "image/png": "[encoded data removed]",
      "text/plain": [
       "<Figure size 432x288 with 6 Axes>"
      ]
     },
     "metadata": {},
     "output_type": "display_data"
    }
   ],
   "source": [
    "examples = enumerate(test_loader)\n",
    "batch_idx, (example_data, example_targets) = next(examples)\n",
    "\n",
    "fig = plt.figure()\n",
    "for i in range(6):\n",
    "    plt.subplot(2,3,i+1)\n",
    "    plt.tight_layout()\n",
    "    plt.imshow(example_data[i][0], cmap='gray', interpolation='none')\n",
    "    plt.title(\"Ground Truth: {}\".format(example_targets[i]))\n",
    "    plt.xticks([])\n",
    "    plt.yticks([])"
   ]
  },
  {
   "cell_type": "code",
   "execution_count": 4,
   "metadata": {},
   "outputs": [],
   "source": [
    "class ConvNet(nn.Module):\n",
    "    def __init__(self):\n",
    "        super(ConvNet, self).__init__()\n",
    "        self.conv1 = nn.Conv2d(1, 10, kernel_size=5)\n",
    "        self.conv2 = nn.Conv2d(10, 20, kernel_size=5)\n",
    "        self.conv2_drop = nn.Dropout2d()\n",
    "        self.fc1 = nn.Linear(320, 50)\n",
    "        self.fc2 = nn.Linear(50, 10)\n",
    "\n",
    "    def forward(self, x):\n",
    "        x = F.relu(F.max_pool2d(self.conv1(x), 2))\n",
    "        x = F.relu(F.max_pool2d(self.conv2_drop(self.conv2(x)), 2))\n",
    "        x = x.view(-1, 320)\n",
    "        x = F.relu(self.fc1(x))\n",
    "        x = F.dropout(x, training=self.training)\n",
    "        x = self.fc2(x)\n",
    "        return F.log_softmax(x,dim=1)"
   ]
  },
  {
   "cell_type": "code",
   "execution_count": 5,
   "metadata": {},
   "outputs": [],
   "source": [
    "#PARAMETERS\n",
    "n_epochs = 3\n",
    "learning_rate = 0.01\n",
    "momentum = 0.5\n",
    "\n",
    "conv_net = ConvNet()\n",
    "optimizer = optim.Adam(conv_net.parameters(), lr=learning_rate)"
   ]
  },
  {
   "cell_type": "code",
   "execution_count": 6,
   "metadata": {},
   "outputs": [],
   "source": [
    "def train(epoch, train_loader, network, optimizer):\n",
    "    network.train()\n",
    "    for batch_idx, (data, target) in tqdm(enumerate(train_loader), total=len(train_loader)):\n",
    "        optimizer.zero_grad()\n",
    "        output = network(data)\n",
    "        loss = F.nll_loss(output, target)\n",
    "        loss.backward()\n",
    "        optimizer.step()\n",
    "            \n",
    "def test(test_loader, network):\n",
    "    network.eval()\n",
    "    test_loss = 0\n",
    "    correct = 0\n",
    "    with torch.no_grad():\n",
    "        for data, target in test_loader:\n",
    "            output = network(data)\n",
    "            test_loss += F.nll_loss(output, target, reduction='sum').item()\n",
    "            pred = output.argmax(dim=1, keepdim=True)\n",
    "            correct += pred.eq(target.view_as(pred)).sum().item()\n",
    "    print('Test set: Avg. loss: {:.4f}, Accuracy: {}/{} ({:.0f}%)'.format(\n",
    "        test_loss / len(test_loader.dataset), correct, len(test_loader.dataset),\n",
    "        100. * correct / len(test_loader.dataset)))\n"
   ]
  },
  {
   "cell_type": "code",
   "execution_count": 7,
   "metadata": {},
   "outputs": [
    {
     "data": {
      "application/vnd.jupyter.widget-view+json": {
       "model_id": "5648098d7a004dd7b9ab3ecbc7960103",
       "version_major": 2,
       "version_minor": 0
      },
      "text/plain": [
       "HBox(children=(HTML(value=''), FloatProgress(value=0.0, max=938.0), HTML(value='')))"
      ]
     },
     "metadata": {},
     "output_type": "display_data"
    },
    {
     "name": "stdout",
     "output_type": "stream",
     "text": [
      "\n",
      "Test set: Avg. loss: 0.1167, Accuracy: 9642/10000 (96%)\n"
     ]
    },
    {
     "data": {
      "application/vnd.jupyter.widget-view+json": {
       "model_id": "1919734f2c074c0e8282144d432ce44b",
       "version_major": 2,
       "version_minor": 0
      },
      "text/plain": [
       "HBox(children=(HTML(value=''), FloatProgress(value=0.0, max=938.0), HTML(value='')))"
      ]
     },
     "metadata": {},
     "output_type": "display_data"
    },
    {
     "name": "stdout",
     "output_type": "stream",
     "text": [
      "\n",
      "Test set: Avg. loss: 0.1209, Accuracy: 9629/10000 (96%)\n"
     ]
    },
    {
     "data": {
      "application/vnd.jupyter.widget-view+json": {
       "model_id": "2c90afb63f6749898c19df7de66163d2",
       "version_major": 2,
       "version_minor": 0
      },
      "text/plain": [
       "HBox(children=(HTML(value=''), FloatProgress(value=0.0, max=938.0), HTML(value='')))"
      ]
     },
     "metadata": {},
     "output_type": "display_data"
    },
    {
     "name": "stdout",
     "output_type": "stream",
     "text": [
      "\n",
      "Test set: Avg. loss: 0.1020, Accuracy: 9698/10000 (97%)\n"
     ]
    }
   ],
   "source": [
    "for epoch in range(1, n_epochs + 1):\n",
    "    train(epoch,train_loader,conv_net,optimizer)\n",
    "    test(test_loader,conv_net)"
   ]
  },
  {
   "cell_type": "code",
   "execution_count": 8,
   "metadata": {},
   "outputs": [
    {
     "name": "stderr",
     "output_type": "stream",
     "text": [
      "/home/leitao/anaconda3/lib/python3.8/site-packages/torch/nn/functional.py:1354: UserWarning: dropout2d: Received a 3D input to dropout2d and assuming that channel-wise 1D dropout behavior is desired - input is interpreted as shape (N, C, L), where C is the channel dim. This behavior will change in a future release to interpret the input as one without a batch dimension, i.e. shape (C, H, W). To maintain the 1D channel-wise dropout behavior, please switch to using dropout1d instead.\n",
      "  warnings.warn(\"dropout2d: Received a 3D input to dropout2d and assuming that channel-wise \"\n"
     ]
    },
    {
     "data": {
      "image/png": "[encoded data removed]",
      "text/plain": [
       "<Figure size 432x288 with 6 Axes>"
      ]
     },
     "metadata": {},
     "output_type": "display_data"
    }
   ],
   "source": [
    "examples = enumerate(test_loader)\n",
    "batch_idx, (example_data, example_targets) = next(examples)\n",
    "\n",
    "fig = plt.figure()\n",
    "for i in range(6):\n",
    "    plt.subplot(2,3,i+1)\n",
    "    plt.tight_layout()\n",
    "    plt.imshow(example_data[i].view(28, 28), cmap='gray', interpolation='none')\n",
    "    predicted_class = torch.argmax(conv_net(example_data[i]), dim=1).item()\n",
    "    plt.title(\"Predicted Truth: {}\".format(predicted_class))\n",
    "    plt.xticks([])\n",
    "    plt.yticks([])"
   ]
  },
  {
   "cell_type": "markdown",
   "metadata": {},
   "source": [
    "# Second Model\n",
    "\n",
    "Takes the pretrained model and adds one last layer to make it a binary classification"
   ]
  },
  {
   "cell_type": "markdown",
   "metadata": {},
   "source": [
    "#### Load the MNIST data as binary classification instead of multiclass"
   ]
  },
  {
   "cell_type": "code",
   "execution_count": 9,
   "metadata": {},
   "outputs": [],
   "source": [
    "class BinaryMNIST(Dataset):\n",
    "    def __init__(self, root, train=True, transform=None, target_digit=8):\n",
    "        self.mnist = MNIST(root, train=train, transform=transform, download=True)\n",
    "        self.target_digit = target_digit\n",
    "\n",
    "    def __getitem__(self, index):\n",
    "        img, target = self.mnist[index]\n",
    "        # Modify the label to be 1 if it's the target digit, otherwise 0\n",
    "        target = 1 if target == self.target_digit else 0\n",
    "        return img, target\n",
    "\n",
    "    def __len__(self):\n",
    "        return len(self.mnist)\n",
    "\n",
    "# Specify the target digit for binary classification\n",
    "target_digit = 8\n",
    "# Define transformations\n",
    "transform = Compose([ToTensor(), Normalize((0.1307,), (0.3081,))])\n",
    "# Create binary classification train and test loaders\n",
    "binary_train_loader = DataLoader(BinaryMNIST('mnist_data/', train=True, transform=transform, target_digit=target_digit),\n",
    "                          batch_size=batch_size_train, shuffle=True)\n",
    "binary_test_loader = DataLoader(BinaryMNIST('mnist_data/', train=False, transform=transform, target_digit=target_digit),\n",
    "                         batch_size=batch_size_test, shuffle=True)"
   ]
  },
  {
   "cell_type": "markdown",
   "metadata": {},
   "source": [
    "#### Add extra layer"
   ]
  },
  {
   "cell_type": "code",
   "execution_count": 10,
   "metadata": {},
   "outputs": [],
   "source": [
    "class Extra_layer(nn.Module):\n",
    "    def __init__(self):\n",
    "        super(Extra_layer, self).__init__()\n",
    "        self.bin = nn.Linear(10, 2)     \n",
    "    \n",
    "    def forward(self, x):\n",
    "        x = self.bin(x)\n",
    "        return F.log_softmax(x,dim=1)\n"
   ]
  },
  {
   "cell_type": "code",
   "execution_count": 11,
   "metadata": {},
   "outputs": [],
   "source": [
    "extra_layer = Extra_layer()\n",
    "model = nn.Sequential(conv_net, extra_layer)\n",
    "optimizer = optim.Adam(model.parameters(), lr=learning_rate)"
   ]
  },
  {
   "cell_type": "code",
   "execution_count": 12,
   "metadata": {},
   "outputs": [
    {
     "data": {
      "application/vnd.jupyter.widget-view+json": {
       "model_id": "519766d9340a4223bcc315ee8f6d991c",
       "version_major": 2,
       "version_minor": 0
      },
      "text/plain": [
       "HBox(children=(HTML(value=''), FloatProgress(value=0.0, max=938.0), HTML(value='')))"
      ]
     },
     "metadata": {},
     "output_type": "display_data"
    },
    {
     "name": "stdout",
     "output_type": "stream",
     "text": [
      "\n",
      "Test set: Avg. loss: 0.0213, Accuracy: 9918/10000 (99%)\n"
     ]
    },
    {
     "data": {
      "application/vnd.jupyter.widget-view+json": {
       "model_id": "b77558ef2fd3480fa9fcd324f0c8a99b",
       "version_major": 2,
       "version_minor": 0
      },
      "text/plain": [
       "HBox(children=(HTML(value=''), FloatProgress(value=0.0, max=938.0), HTML(value='')))"
      ]
     },
     "metadata": {},
     "output_type": "display_data"
    },
    {
     "name": "stdout",
     "output_type": "stream",
     "text": [
      "\n",
      "Test set: Avg. loss: 0.0218, Accuracy: 9921/10000 (99%)\n"
     ]
    },
    {
     "data": {
      "application/vnd.jupyter.widget-view+json": {
       "model_id": "c7608837e8be4ccbadce6374a2af714f",
       "version_major": 2,
       "version_minor": 0
      },
      "text/plain": [
       "HBox(children=(HTML(value=''), FloatProgress(value=0.0, max=938.0), HTML(value='')))"
      ]
     },
     "metadata": {},
     "output_type": "display_data"
    },
    {
     "name": "stdout",
     "output_type": "stream",
     "text": [
      "\n",
      "Test set: Avg. loss: 0.0261, Accuracy: 9922/10000 (99%)\n"
     ]
    }
   ],
   "source": [
    "for epoch in range(1, n_epochs + 1):\n",
    "    train(epoch,binary_train_loader,model,optimizer)\n",
    "    test(binary_test_loader,model)"
   ]
  },
  {
   "cell_type": "code",
   "execution_count": 13,
   "metadata": {},
   "outputs": [
    {
     "data": {
      "image/png": "[encoded data removed]",
      "text/plain": [
       "<Figure size 432x288 with 6 Axes>"
      ]
     },
     "metadata": {},
     "output_type": "display_data"
    }
   ],
   "source": [
    "examples = enumerate(binary_test_loader)\n",
    "batch_idx, (example_data, example_targets) = next(examples)\n",
    "first_eight = (example_targets==1).nonzero()[0]\n",
    "\n",
    "fig = plt.figure()\n",
    "for i in range(6):\n",
    "    plt.subplot(2,3,i+1)\n",
    "    i += first_eight.item()\n",
    "    plt.tight_layout()\n",
    "    plt.imshow(example_data[i].view(28, 28), cmap='gray', interpolation='none')\n",
    "    predicted_class = torch.argmax(model(example_data[i]), dim=1).item()\n",
    "    plt.title(\"Predicted Truth: {}\".format(predicted_class))\n",
    "    plt.xticks([])\n",
    "    plt.yticks([])"
   ]
  },
  {
   "cell_type": "markdown",
   "metadata": {},
   "source": [
    "# CROCO"
   ]
  },
  {
   "cell_type": "code",
   "execution_count": 183,
   "metadata": {},
   "outputs": [],
   "source": [
    "import gator\n",
    "import numpy as np\n",
    "from importlib import reload\n",
    "gator = reload(gator)"
   ]
  },
  {
   "cell_type": "code",
   "execution_count": 184,
   "metadata": {},
   "outputs": [],
   "source": [
    "PARAMS = {\n",
    "        \"n_samples\" : 500,\n",
    "        \"lr\": 0.01,\n",
    "        \"t\" : 0.5, \n",
    "        \"m\" : 0.1,\n",
    "        \"n_iter\": 1000,\n",
    "        \"binary_cat_features\": True,\n",
    "        \"sigma2\" : 0.05,#0.01 \n",
    "        \"robustness_target\" : 0.01, #0.3\n",
    "        \"robustness_epsilon\" : 0.01,\n",
    "        \"distribution\" : \"gaussian\"\n",
    "    }"
   ]
  },
  {
   "cell_type": "code",
   "execution_count": 185,
   "metadata": {},
   "outputs": [],
   "source": [
    "x = example_data[first_eight]"
   ]
  },
  {
   "cell_type": "code",
   "execution_count": 186,
   "metadata": {},
   "outputs": [],
   "source": [
    "x_new,hist = gator.croco(\n",
    "                        model=model,\n",
    "                        delta=np.zeros(x.shape),\n",
    "                        x=x.numpy(),\n",
    "                        weights = [1,100,1], #robustness, validity, proximity\n",
    "                        n_samples = PARAMS[\"n_samples\"],\n",
    "                        lr=PARAMS[\"lr\"],\n",
    "                        sigma2 = PARAMS[\"sigma2\"],\n",
    "                        robustness_target = PARAMS[\"robustness_target\"],\n",
    "                        robustness_epsilon = PARAMS[\"robustness_epsilon\"],\n",
    "                        n_iter=PARAMS[\"n_iter\"],\n",
    "                        t = PARAMS[\"t\"],\n",
    "                        m = PARAMS[\"m\"]\n",
    "                    )"
   ]
  },
  {
   "cell_type": "code",
   "execution_count": 187,
   "metadata": {},
   "outputs": [
    {
     "data": {
      "image/png": "[encoded data removed]",
      "text/plain": [
       "<Figure size 432x288 with 1 Axes>"
      ]
     },
     "metadata": {
      "needs_background": "light"
     },
     "output_type": "display_data"
    }
   ],
   "source": [
    "plt.plot(hist[\"robustness\"],label=\"robustness\")\n",
    "plt.plot(hist[\"validity\"],label=\"validity\")\n",
    "plt.plot(hist[\"proximity\"],label=\"proximity\")\n",
    "#plt.plot(hist[\"loss\"],label=\"loss\")\n",
    "plt.legend()\n",
    "plt.show()\n"
   ]
  },
  {
   "cell_type": "code",
   "execution_count": 188,
   "metadata": {},
   "outputs": [
    {
     "data": {
      "text/plain": [
       "([], [])"
      ]
     },
     "execution_count": 188,
     "metadata": {},
     "output_type": "execute_result"
    },
    {
     "data": {
      "image/png": "[encoded data removed]",
      "text/plain": [
       "<Figure size 432x288 with 2 Axes>"
      ]
     },
     "metadata": {},
     "output_type": "display_data"
    }
   ],
   "source": [
    "fig = plt.figure()\n",
    "plt.subplot(1,2,1)\n",
    "plt.tight_layout()\n",
    "plt.imshow(x0.view(28, 28), cmap='gray', interpolation='none')\n",
    "predicted_class = torch.argmax(model(x0), dim=1).item()\n",
    "plt.title(\"Predicted Truth: {}\".format(predicted_class))\n",
    "plt.xticks([])\n",
    "plt.yticks([])\n",
    "\n",
    "plt.subplot(1,2,2)\n",
    "plt.tight_layout()\n",
    "plt.imshow(x_new.view(28, 28), cmap='gray', interpolation='none')\n",
    "predicted_class = torch.argmax(model(x_new), dim=1).item()\n",
    "plt.title(\"Predicted Truth: {}\".format(predicted_class))\n",
    "plt.xticks([])\n",
    "plt.yticks([])\n",
    "\n",
    "    \n",
    "    "
   ]
  },
  {
   "cell_type": "code",
   "execution_count": 87,
   "metadata": {},
   "outputs": [
    {
     "data": {
      "text/plain": [
       "tensor([[-2.0323, -0.1404]], grad_fn=<LogSoftmaxBackward0>)"
      ]
     },
     "execution_count": 87,
     "metadata": {},
     "output_type": "execute_result"
    }
   ],
   "source": []
  },
  {
   "cell_type": "code",
   "execution_count": 133,
   "metadata": {},
   "outputs": [],
   "source": [
    "from torch.distributions.normal import Normal\n",
    "from torch.autograd import Variable\n",
    "\n",
    "def reparametrization_trick_gaussian(mu, sigma2, device, n_samples):\n",
    "    # Expand the mean tensor to match the required shape\n",
    "    mu_expanded = mu.expand(n_samples, -1, -1, -1)\n",
    "    # Create a tensor for sigma2\n",
    "    sigma2_tensor = torch.tensor(sigma2).to(device)\n",
    "    # Create a Normal distribution with the given mean and standard deviation\n",
    "    normal_dist = Normal(mu_expanded, torch.sqrt(sigma2_tensor))\n",
    "    # Sample from the Normal distribution\n",
    "    samples = normal_dist.sample()\n",
    "    return samples\n",
    "\n",
    "\n",
    "\n",
    "def croco(delta,x,n_samples,lr,lambda_param,sigma2,robustness_target,robustness_epsilon,n_iter,t,m):\n",
    "    device = \"cpu\"\n",
    "    # Input example as a tensor \n",
    "    x0 = torch.from_numpy(x).float().to(device)\n",
    "    # Target class\n",
    "    pred_class = 0\n",
    "    # Tensor init perturb\n",
    "    delta = torch.from_numpy(delta)\n",
    "\n",
    "\n",
    "    # Target classes are 1, one hot encoded -> [0,1]\n",
    "    y_target_class = torch.tensor([0,1]).float().to(device)\n",
    "    y_target = y_target_class[1]\n",
    "    G_target = torch.tensor(y_target).float().to(device)\n",
    "    # Init lambda value \n",
    "    lamb = torch.tensor(lambda_param).float()\n",
    "    # Init perturb \n",
    "    Perturb = Variable(torch.clone(delta.to(device)), requires_grad=True)\n",
    "    x_cf_new = (x0+Perturb).to(device)\n",
    "    # Set optimizer \n",
    "    optimizer = optim.Adam([Perturb], lr, amsgrad=True)\n",
    "    # MSE loss for class term \n",
    "    loss_fn = torch.nn.MSELoss()\n",
    "    # Prediction for the counterfactual \n",
    "    f_x_binary = model(x_cf_new.float())\n",
    "    #f_x = f_x_binary[1-pred_class]\n",
    "    f_x = f_x_binary[:,1-pred_class]\n",
    "    #get samples\n",
    "    random_samples = reparametrization_trick_gaussian(x_cf_new, sigma2, device, n_samples=n_samples)\n",
    "\n",
    "    G = random_samples\n",
    "\n",
    "    # Compute robustness constraint term \n",
    "    #compute_robutness = (m + torch.mean(G_target- model((G_new).float())[:,1-pred_class])) / (1-t)\n",
    "    compute_robutness = (m + torch.mean(G_target- model((G).float())[1-pred_class])) / (1-t)\n",
    "\n",
    "    #Lambda = []\n",
    "    #Dist = []\n",
    "    #Rob = []\n",
    "    hist={}\n",
    "    hist['robustness'],hist[\"validity\"],hist[\"proximity\"],hist[\"loss\"] = [],[],[],[] \n",
    "    while (f_x <=t) and (compute_robutness > robustness_target + robustness_epsilon) : \n",
    "        it=0\n",
    "        for it in range(n_iter) :\n",
    "            optimizer.zero_grad()\n",
    "            x_cf_new = x0+Perturb\n",
    "            # Prediction for the counterfactual \n",
    "            f_x_binary = model(x_cf_new.float())\n",
    "            #f_x = f_x_binary[1-pred_class]\n",
    "            f_x = f_x_binary[:,1-pred_class]\n",
    "            # Take random samples \n",
    "            random_samples = reparametrization_trick_gaussian(x_cf_new, torch.tensor(sigma2), device, n_samples=n_samples)\n",
    "            #invalidation_rate = compute_invalidation_rate(model, random_samples)\n",
    "            # New perturbated group translated \n",
    "            G = random_samples\n",
    "            # Compute (m + theta) / (1-t)\n",
    "            mean_proba =  torch.mean(model((G).float())[:,pred_class])\n",
    "            compute_robutness = (m + mean_proba) /(1-t)\n",
    "            # Diff between robustness and targer robustness \n",
    "            robustness_invalidation = compute_robutness - robustness_target            \n",
    "            # Overall loss function \n",
    "            loss = robustness_invalidation**2 + loss_fn(f_x_binary,y_target_class) + lamb* torch.norm(Perturb,p=1)\n",
    "            loss.backward()\n",
    "            optimizer.step()\n",
    "            \n",
    "            hist[\"robustness\"].append((robustness_invalidation**2).item())\n",
    "            hist[\"validity\"].append(loss_fn(f_x_binary,y_target_class).item())\n",
    "            hist[\"proximity\"].append( torch.norm(Perturb,p=1).item())\n",
    "            hist[\"loss\"].append(loss.item())\n",
    "\n",
    "            it += 1\n",
    "        if (f_x > t) and ((compute_robutness < robustness_target + robustness_epsilon))  :\n",
    "            print(\"Counterfactual Explanation Found\")\n",
    "            break   \n",
    "\n",
    "        lamb -= 0.25\n",
    "\n",
    "        # Stop if no solution found for different lambda values \n",
    "        if lamb <=0 :\n",
    "            print(\"No Counterfactual Explanation Found for these lambda values\")\n",
    "            break\n",
    "\n",
    "    final_perturb = Perturb.clone()\n",
    "    x_new =(x0 + final_perturb).float().detach()\n",
    "    return x_new,hist"
   ]
  },
  {
   "cell_type": "code",
   "execution_count": 21,
   "metadata": {},
   "outputs": [
    {
     "data": {
      "text/plain": [
       "torch.Size([1000, 1, 28, 28])"
      ]
     },
     "execution_count": 21,
     "metadata": {},
     "output_type": "execute_result"
    }
   ],
   "source": [
    "example_data.shape"
   ]
  },
  {
   "cell_type": "code",
   "execution_count": null,
   "metadata": {},
   "outputs": [],
   "source": []
  }
 ],
 "metadata": {
  "kernelspec": {
   "display_name": "Python 3",
   "language": "python",
   "name": "python3"
  },
  "language_info": {
   "codemirror_mode": {
    "name": "ipython",
    "version": 3
   },
   "file_extension": ".py",
   "mimetype": "text/x-python",
   "name": "python",
   "nbconvert_exporter": "python",
   "pygments_lexer": "ipython3",
   "version": "3.8.5"
  }
 },
 "nbformat": 4,
 "nbformat_minor": 4
}
